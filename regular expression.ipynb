{
 "cells": [
  {
   "cell_type": "markdown",
   "metadata": {},
   "source": [
    "## Regular Expression, why so useful\n",
    "\n",
    "In this tutorial, I will briefly introduce the magic of regular expression (regex). If you wanted to learn more about regex (it is very tricky to learn regex. But super useful once mastered!), please check this website https://urldefense.com/v3/__https://www.regular-expressions.info/__;!!KjDnqvtInNPT!2ZXgwQtzCsk1BnDpqmlXIrpYT0hH5wOfEU3ytm2tDkmicqyf87Q4VVooF0OBJ-H3D_I$ . It can also serves as a handbook going forward.\n",
    "\n",
    "A regular expression (regex) is a group of characters or symbols which is used to find a specific pattern in a text. It is a universial tool that can be deploy in many programming or nonprogramming languages (Python, R, Html). It also be generallized to all coding schemes such 'utf-8', latin, etc. It can even match emojis and urls. \n",
    "\n",
    "You do not have to master it during this course. But at least know its existence and extent of power. Ask Google or search  https://urldefense.com/v3/__https://www.regular-expressions.info/__;!!KjDnqvtInNPT!2ZXgwQtzCsk1BnDpqmlXIrpYT0hH5wOfEU3ytm2tDkmicqyf87Q4VVooF0OBJ-H3D_I$  for answers if you need help in the future. "
   ]
  },
  {
   "cell_type": "markdown",
   "metadata": {},
   "source": [
    "### Meta character\tDescription\n",
    "\n",
    "\\.\t  &nbsp;&nbsp;&nbsp;    Period matches any single character except a line break.\n",
    "\n",
    "\\[ \\]\t&nbsp;&nbsp;&nbsp;   Character class. Matches any character contained between the square brackets.\n",
    "\n",
    "\\[^ \\]\t&nbsp;&nbsp;&nbsp;   Negated character class. Matches any character that is not contained between the square brackets\n",
    "\n",
    "\\*\t  &nbsp;&nbsp;&nbsp;    Matches 0 or more repetitions of the preceding symbol.\n",
    "\n",
    "\\+\t  &nbsp;&nbsp;&nbsp;    Matches 1 or more repetitions of the preceding symbol.\n",
    "\n",
    "\\?   &nbsp;&nbsp;&nbsp;    Makes the preceding symbol optional.\n",
    "\n",
    "\\{n,m\\}\t &nbsp;&nbsp;&nbsp;  Braces. Matches at least \"n\" but not more than \"m\" repetitions of the preceding symbol.\n",
    "\n",
    "(xyz)\t&nbsp;&nbsp;&nbsp;   Captured group. Matches the characters xyz in that exact order.If you do not want to capture this group, use (?:xyz)\n",
    "\n",
    "|\t &nbsp;&nbsp;&nbsp;     Alternation. Matches either the characters before or the characters after the symbol.\n",
    "\n",
    "\\\\\t &nbsp;&nbsp;&nbsp;     Escapes the next character. This allows you to match reserved characters \\[ \\] ( ) { } . * + ? ^ $ \\ |\n",
    "\n",
    "\\^\t &nbsp;&nbsp;&nbsp;     Matches the beginning of the input.\n",
    "\n",
    "\\$\t  &nbsp;&nbsp;&nbsp;    Matches the end of the input.\n",
    "\n",
    "\\d \\D  &nbsp;&nbsp;&nbsp;   \\d matches a single digit 0-9, \\D anything but a digit\n",
    "\n",
    "\\w \\W  &nbsp;&nbsp;&nbsp;   \\w matches alphanumerical letters (0-9, a-z and \\_), \\W anything but alphanumerical letters \n",
    "\n",
    "\\s \\S &nbsp;&nbsp;&nbsp;    \\s matches a space (such as \\ ,\\t, \\n); \\S matches anything but a space. \n",
    "\n",
    "\\n &nbsp;&nbsp;&nbsp;       Matches a linebreak"
   ]
  },
  {
   "cell_type": "markdown",
   "metadata": {},
   "source": [
    "### Let's begin. First import the regex package re.\n",
    "\n",
    "And also import our text.It is a paragraph analyzing the impact of Covid-19 on Chinese economy\n",
    "\n",
    "\"\n",
    "In the short term, the impact of the COVID-19 disease on China’s economic growth\n",
    "will be very obvious. Since the outbreak, many domestic and foreign institutions\n",
    "have made their estimations (see Figure 1). Most of them believe that the GDP\n",
    "growth rate in the first quarter may be about 4%, a decline by about 2 percentage\n",
    "points. The growth rates in the next three quarters will gradually pick up\n",
    "depending on when the outbreak ends, and the annual GDP growth will show a\n",
    "\\\"V-shaped\\\" pattern.\n",
    "\n",
    "In light of the prevailing analyses and estimations of domestic and foreign\n",
    "institutions, we believe that if the outbreak could be largely over in late March or\n",
    "early April, the growth rates in the four quarters of this year may reach 4.5%, 5.0%,\n",
    "5.8%, and 5.7% respectively. The annual growth rate may be 5.2-5.3%.\n",
    "\n",
    "\""
   ]
  },
  {
   "cell_type": "code",
   "execution_count": 2,
   "metadata": {},
   "outputs": [],
   "source": [
    "import re\n",
    "text = '''\n",
    "In the short term, the impact of the COVID-19 disease on China’s economic growth will be very obvious. \n",
    "Since the outbreak, many domestic and foreign institutions have made their estimations (see Figure 1). \n",
    "Most of them believe that the GDP growth rate in the first quarter may be about 4%, a decline by about 2 percentage points. \n",
    "The growth rates in the next three quarters will gradually pick up depending on when the outbreak ends, \n",
    "and the annual GDP growth will show a \"V-shaped\" pattern.\n",
    "In light of the prevailing analyses and estimations of domestic and foreign institutions, \n",
    "we believe that if the outbreak could be largely over in late March or early April, \n",
    "the growth rates in the four quarters of this year may reach 4.5%...%, 5.0%, 5.8%, and 5.7% respectively. \n",
    "The annual growth rate may be 5.2-5.3%.\n",
    "'''"
   ]
  },
  {
   "cell_type": "code",
   "execution_count": 4,
   "metadata": {},
   "outputs": [
    {
     "data": {
      "text/plain": "'\\nIn the short term, the impact of the COVID-19 disease on China’s economic growth will be very obvious. \\nSince the outbreak, many domestic and foreign institutions have made their estimations (see Figure 1). \\nMost of them believe that the GDP growth rate in the first quarter may be about 4%, a decline by about 2 percentage points. \\nThe growth rates in the next three quarters will gradually pick up depending on when the outbreak ends, \\nand the annual GDP growth will show a \"V-shaped\" pattern.\\nIn light of the prevailing analyses and estimations of domestic and foreign institutions, \\nwe believe that if the outbreak could be largely over in late March or early April, \\nthe growth rates in the four quarters of this year may reach 4.5%...%, 5.0%, 5.8%, and 5.7% respectively. \\nThe annual growth rate may be 5.2-5.3%.\\n'"
     },
     "execution_count": 4,
     "metadata": {},
     "output_type": "execute_result"
    }
   ],
   "source": [
    "# here ''' '''allow us to put string literal inside the triple quote sign. Let's see what the text actually looks like in python codetext)\n",
    "text\n"
   ]
  },
  {
   "cell_type": "markdown",
   "metadata": {},
   "source": [
    "## The simple match\n",
    "\n",
    "If you want to match the literal string, \"COVID-19\". You can just use the patter \"COVID-19\" (notice: it is case-sensitive)\n"
   ]
  },
  {
   "cell_type": "markdown",
   "metadata": {},
   "source": [
    "\n",
    "- \"COVID-19\" => In the short term, the impact of the **COVID-19** disease on China’s economic growth will be very obvious.\n"
   ]
  },
  {
   "cell_type": "code",
   "execution_count": 89,
   "metadata": {},
   "outputs": [
    {
     "data": {
      "text/plain": [
       "'COVID-19'"
      ]
     },
     "execution_count": 89,
     "metadata": {},
     "output_type": "execute_result"
    }
   ],
   "source": [
    "term = 'COVID-19'\n",
    "a = re.findall(term, text) # findall method return a list of all possible matches\n",
    "a[0]"
   ]
  },
  {
   "cell_type": "markdown",
   "metadata": {},
   "source": [
    "You can even match Chinese, Spanish, Japanese. Any language you like."
   ]
  },
  {
   "cell_type": "code",
   "execution_count": 7,
   "metadata": {},
   "outputs": [
    {
     "data": {
      "text/plain": [
       "(<re.Match object; span=(0, 2), match='中国'>, '中国')"
      ]
     },
     "execution_count": 7,
     "metadata": {},
     "output_type": "execute_result"
    }
   ],
   "source": [
    "term = '中国'\n",
    "b= re.search(term, \"中国GDP增幅受到COVID-19影响，增量下降。中国的\") # search method will go over all lines of text and report the first occurence\n",
    "b, b.group()"
   ]
  },
  {
   "cell_type": "code",
   "execution_count": 8,
   "metadata": {},
   "outputs": [],
   "source": [
    "term = '美国'\n",
    "b= re.match(term, \"中国GDP增幅受到COVID-19影响，增量下降。中国的...\") # match method will go over the first lines of text and report the first occurence\n",
    "b # b.group() will return error since b is a None object"
   ]
  },
  {
   "cell_type": "code",
   "execution_count": 9,
   "metadata": {},
   "outputs": [
    {
     "data": {
      "text/plain": [
       "'美国GDP增幅受到COVID-19影响，增量下降。美国的...'"
      ]
     },
     "execution_count": 9,
     "metadata": {},
     "output_type": "execute_result"
    }
   ],
   "source": [
    "# you can also do this\n",
    "\n",
    "c = re.sub('中国', '美国',\"中国GDP增幅受到COVID-19影响，增量下降。中国的...\") # sub can be used to substitute terms\n",
    "c"
   ]
  },
  {
   "cell_type": "code",
   "execution_count": 29,
   "metadata": {},
   "outputs": [
    {
     "data": {
      "text/plain": [
       "['.\\nI']"
      ]
     },
     "execution_count": 29,
     "metadata": {},
     "output_type": "execute_result"
    }
   ],
   "source": [
    "d = re.findall('\\.\\nI', text)\n",
    "d"
   ]
  },
  {
   "cell_type": "code",
   "execution_count": 6,
   "metadata": {},
   "outputs": [
    {
     "name": "stdout",
     "output_type": "stream",
     "text": [
      "\\\n"
     ]
    }
   ],
   "source": [
    "a = re.findall('\\\\\\\\', 'd\\9reter')\n",
    "print(a[0])"
   ]
  },
  {
   "cell_type": "markdown",
   "metadata": {},
   "source": [
    "### The Full Stop\n",
    "The full stop . is the simplest example of a meta character. The meta character . matches any single character. It will not match return or newline characters. For example, the regular expression .ar means: any character, followed by the letter a, followed by the letter r."
   ]
  },
  {
   "cell_type": "code",
   "execution_count": 113,
   "metadata": {},
   "outputs": [
    {
     "data": {
      "text/plain": [
       "['the', 'the', 'the']"
      ]
     },
     "execution_count": 113,
     "metadata": {},
     "output_type": "execute_result"
    }
   ],
   "source": [
    "term = 'th.'\n",
    "b = re.findall(term, 'In the short term, the impact of the COVID-19 disease on China’s economic growth will be large')\n",
    "b"
   ]
  },
  {
   "cell_type": "markdown",
   "metadata": {},
   "source": [
    " 'th.' => In **the** short term, **the** impact of **the** COVID-19 disease on China’s economic grow**th** will be huge"
   ]
  },
  {
   "cell_type": "markdown",
   "metadata": {},
   "source": [
    "### The Repetitions, Character Sets, and Captured Groups\n"
   ]
  },
  {
   "cell_type": "code",
   "execution_count": 138,
   "metadata": {},
   "outputs": [
    {
     "data": {
      "text/plain": [
       "['In the short term, the impact of the COVID-19 disease on China’s economic growth will be very obvious.',\n",
       " '']"
      ]
     },
     "execution_count": 138,
     "metadata": {},
     "output_type": "execute_result"
    }
   ],
   "source": [
    "re.findall(r'.*', 'In the short term, the impact of the COVID-19 disease on China’s economic growth will be very obvious.')"
   ]
  },
  {
   "cell_type": "code",
   "execution_count": 117,
   "metadata": {},
   "outputs": [
    {
     "data": {
      "text/plain": [
       "['or', 'of', 'on', 'on', 'om', 'ow', 'ob', 'ou']"
      ]
     },
     "execution_count": 117,
     "metadata": {},
     "output_type": "execute_result"
    }
   ],
   "source": [
    "re.findall(r'o.?', 'In the short term, the impact of the COVID-19 disease on China’s economic growth will be very obvious.')"
   ]
  },
  {
   "cell_type": "code",
   "execution_count": 126,
   "metadata": {},
   "outputs": [
    {
     "data": {
      "text/plain": [
       "['on', 'on', 'on', 'on']"
      ]
     },
     "execution_count": 126,
     "metadata": {},
     "output_type": "execute_result"
    }
   ],
   "source": [
    "re.findall('on', 'on the contrary, the impact of the COVID-19 disease on US’s economic growth will be very the largest out of all countries.')"
   ]
  },
  {
   "cell_type": "code",
   "execution_count": 128,
   "metadata": {},
   "outputs": [
    {
     "data": {
      "text/plain": [
       "[' of the COVID-19 disease on US’s economic growth will be very the largest out of all ']"
      ]
     },
     "execution_count": 128,
     "metadata": {},
     "output_type": "execute_result"
    }
   ],
   "source": [
    "# match every word start with o\n",
    "re.findall('\\so.+\\s', 'on the contrary, the impact of the COVID-19 disease on US’s economic growth will be very the largest out of all countries.')"
   ]
  },
  {
   "cell_type": "markdown",
   "metadata": {},
   "source": [
    "The above approach failed because + match is greedy, as it will try to find the longest match. In this case, our match needs to be *lazy* instead of *greedy*, so that it will stop as soon as it finds a possible match."
   ]
  },
  {
   "cell_type": "code",
   "execution_count": 8,
   "metadata": {},
   "outputs": [
    {
     "data": {
      "text/plain": "[' of ', ' on ', ' out ']"
     },
     "execution_count": 8,
     "metadata": {},
     "output_type": "execute_result"
    }
   ],
   "source": [
    "re.findall('\\so.+?\\s', 'on the contrary, the impact of the COVID-19 disease on US’s economic growth will be very the largest out of all countries.')"
   ]
  },
  {
   "cell_type": "markdown",
   "metadata": {},
   "source": [
    "It missed the first 'on' in 'on the contrary'. This is because \\s matches spaces only, not beginning or the end of the line. So instead of \\s, we use \\b to match word boundaries."
   ]
  },
  {
   "cell_type": "code",
   "execution_count": 149,
   "metadata": {},
   "outputs": [
    {
     "data": {
      "text/plain": [
       "['on', 'of', 'on', 'out', 'of']"
      ]
     },
     "execution_count": 149,
     "metadata": {},
     "output_type": "execute_result"
    }
   ],
   "source": [
    "re.findall('\\\\bo.+?\\\\b', 'on the contrary, the impact \\a of the COVID-19 disease on US’s economic growth will be very the largest out of all countries.')"
   ]
  },
  {
   "cell_type": "markdown",
   "metadata": {},
   "source": [
    "Why '\\\\\\\\b' instead of '\\b', because in Python string literals '\\b'  corresponds to some special characters ('\\x08'). So when you write '\\bo.+?\\b', what the findall function get as an argument is '\\x08 something here \\x08'. Now you need to use '\\' to escape the first '\\' so that '\\\\\\\\b' actually means '\\b', instead of a special backspace character.\n",
    "\n",
    "Confusing right? There is an easier way. I strongly recommend you write matched termed in raw strings."
   ]
  },
  {
   "cell_type": "code",
   "execution_count": 151,
   "metadata": {},
   "outputs": [
    {
     "data": {
      "text/plain": [
       "['on', 'of', 'on', 'out', 'of']"
      ]
     },
     "execution_count": 151,
     "metadata": {},
     "output_type": "execute_result"
    }
   ],
   "source": [
    "# adding a r before '' to convert a string literal into a raw string\n",
    "re.findall(r'\\bo.+?\\b', 'on the contrary, the impact of the COVID-19 disease on US’s economic growth will be very the largest out of all countries.')"
   ]
  },
  {
   "cell_type": "code",
   "execution_count": 152,
   "metadata": {},
   "outputs": [
    {
     "data": {
      "text/plain": [
       "['on', 'of', 'on', 'of']"
      ]
     },
     "execution_count": 152,
     "metadata": {},
     "output_type": "execute_result"
    }
   ],
   "source": [
    "# ? can also mean match zero or one times\n",
    "re.findall(r'\\bo.?\\b', 'on the contrary, the impact of the COVID-19 disease on US’s economic growth will be very the largest out of all countries.')"
   ]
  },
  {
   "cell_type": "code",
   "execution_count": 153,
   "metadata": {},
   "outputs": [
    {
     "data": {
      "text/plain": [
       "['on', 'on', 'one']"
      ]
     },
     "execution_count": 153,
     "metadata": {},
     "output_type": "execute_result"
    }
   ],
   "source": [
    "re.findall(r'\\bone?\\b', 'on the contrary, the impact of the COVID-19 disease on US’s economic growth will be very the largest one out of all countries.')"
   ]
  },
  {
   "cell_type": "markdown",
   "metadata": {},
   "source": [
    "Other anchors include the beginning (^) and the end ($) of a string"
   ]
  },
  {
   "cell_type": "code",
   "execution_count": 159,
   "metadata": {},
   "outputs": [
    {
     "data": {
      "text/plain": [
       "['on']"
      ]
     },
     "execution_count": 159,
     "metadata": {},
     "output_type": "execute_result"
    }
   ],
   "source": [
    "re.findall(r'^on', 'on the contrary, the impact of the COVID-19 disease on US’s economic growth will be very the largest one out of all countries.')"
   ]
  },
  {
   "cell_type": "code",
   "execution_count": 161,
   "metadata": {},
   "outputs": [
    {
     "data": {
      "text/plain": [
       "['countries.']"
      ]
     },
     "execution_count": 161,
     "metadata": {},
     "output_type": "execute_result"
    }
   ],
   "source": [
    "re.findall(r'\\w*\\.$', 'on the contrary, the impact of the COVID-19 disease on US’s economic growth will be very the largest one out of all countries.')"
   ]
  },
  {
   "cell_type": "markdown",
   "metadata": {},
   "source": [
    "### [], {} and ()\n"
   ]
  },
  {
   "cell_type": "code",
   "execution_count": 169,
   "metadata": {},
   "outputs": [
    {
     "data": {
      "text/plain": [
       "['19']"
      ]
     },
     "execution_count": 169,
     "metadata": {},
     "output_type": "execute_result"
    }
   ],
   "source": [
    "re.findall(r'[0-9]+', 'on the contrary, the impact of the COVID-19 disease on US’s economic growth will be very the largest one out of all countries.')"
   ]
  },
  {
   "cell_type": "markdown",
   "metadata": {},
   "source": [
    "^ sign inside \\[\\] is not an anchor. Use \\[^\\] for the negated set."
   ]
  },
  {
   "cell_type": "code",
   "execution_count": 175,
   "metadata": {},
   "outputs": [
    {
     "data": {
      "text/plain": [
       "['on the contrary, the impact of the COVID-',\n",
       " ' disease on US’s economic growth will be very the largest one out of all countries.']"
      ]
     },
     "execution_count": 175,
     "metadata": {},
     "output_type": "execute_result"
    }
   ],
   "source": [
    "re.findall(r'[^0-9]+', 'on the contrary, the impact of the COVID-19 disease on US’s economic growth will be very the largest one out of all countries.')"
   ]
  },
  {
   "cell_type": "markdown",
   "metadata": {},
   "source": [
    "What if we only want to match 'on' or 'of'"
   ]
  },
  {
   "cell_type": "code",
   "execution_count": null,
   "metadata": {},
   "outputs": [],
   "source": [
    "# use () to capture groups\n",
    "re.findall(r'\\bo(n|f)\\b', 'on the contrary, the impact of the COVID-19 disease on US’s economic growth will be very the largest one out of all countries.')"
   ]
  },
  {
   "cell_type": "markdown",
   "metadata": {},
   "source": [
    "In the above example, we made the right match, but the () not only matches, but also captured the matched part into groups. So if we just want to match, not to capture. use (?:)"
   ]
  },
  {
   "cell_type": "code",
   "execution_count": 155,
   "metadata": {},
   "outputs": [
    {
     "data": {
      "text/plain": [
       "['on', 'of', 'on', 'of']"
      ]
     },
     "execution_count": 155,
     "metadata": {},
     "output_type": "execute_result"
    }
   ],
   "source": [
    "re.findall(r'\\bo(?:n|f)\\b', 'on the contrary, the impact of the COVID-19 disease on US’s economic growth will be very the largest one out of all countries.')"
   ]
  },
  {
   "cell_type": "code",
   "execution_count": 176,
   "metadata": {},
   "outputs": [
    {
     "data": {
      "text/plain": [
       "['on', 'of', 'on', 'on', 'out', 'of']"
      ]
     },
     "execution_count": 176,
     "metadata": {},
     "output_type": "execute_result"
    }
   ],
   "source": [
    "re.findall(r'\\bo(?:n|f)|out\\b', 'on the contrary, the impact of the COVID-19 disease on US’s economic growth will be very the largest one out of all countries.')"
   ]
  },
  {
   "cell_type": "markdown",
   "metadata": {},
   "source": [
    "Carefully read the two following codes to see the difference and similarity."
   ]
  },
  {
   "cell_type": "code",
   "execution_count": 158,
   "metadata": {},
   "outputs": [
    {
     "data": {
      "text/plain": [
       "[('on', 'on'), ('on', 'on')]"
      ]
     },
     "execution_count": 158,
     "metadata": {},
     "output_type": "execute_result"
    }
   ],
   "source": [
    "re.findall(r'(on).*?(on)', 'on the contrary, the impact of the COVID-19 disease on US’s economic growth will be very the largest one out of all countries.')"
   ]
  },
  {
   "cell_type": "code",
   "execution_count": 157,
   "metadata": {},
   "outputs": [
    {
     "data": {
      "text/plain": [
       "['on the con', 'on US’s econ']"
      ]
     },
     "execution_count": 157,
     "metadata": {},
     "output_type": "execute_result"
    }
   ],
   "source": [
    "re.findall(r'(?:on).*?(?:on)', 'on the contrary, the impact of the COVID-19 disease on US’s economic growth will be very the largest one out of all countries.')"
   ]
  },
  {
   "cell_type": "markdown",
   "metadata": {},
   "source": [
    "### Put it all together\n",
    "Given the following text, we want to match all those percentages."
   ]
  },
  {
   "cell_type": "code",
   "execution_count": 94,
   "metadata": {},
   "outputs": [
    {
     "data": {
      "text/plain": [
       "'\\nIn the short term, the impact of the COVID-19 disease on China’s economic growth will be very obvious. \\nSince the outbreak, many domestic and foreign institutions have made their estimations (see Figure 1). \\nMost of them believe that the GDP growth rate in the first quarter may be about 4%, a decline by about 2 percentage points. \\nThe growth rates in the next three quarters will gradually pick up depending on when the outbreak ends, \\nand the annual GDP growth will show a \"V-shaped\" pattern.\\nIn light of the prevailing analyses and estimations of domestic and foreign institutions, \\nwe believe that if the outbreak could be largely over in late March or early April, \\nthe growth rates in the four quarters of this year may reach 4.5%...%, 5.0%, 5.8%, and 5.7% respectively. \\nThe annual growth rate may be 5.2-5.3%.\\n'"
      ]
     },
     "execution_count": 94,
     "metadata": {},
     "output_type": "execute_result"
    }
   ],
   "source": [
    "text"
   ]
  },
  {
   "cell_type": "code",
   "execution_count": 103,
   "metadata": {},
   "outputs": [
    {
     "data": {
      "text/plain": [
       "['4%', '5%', '0%', '8%', '7%', '3%']"
      ]
     },
     "execution_count": 103,
     "metadata": {},
     "output_type": "execute_result"
    }
   ],
   "source": [
    "term1 = '\\d%'\n",
    "re.findall(term1, text) # not right"
   ]
  },
  {
   "cell_type": "code",
   "execution_count": 102,
   "metadata": {},
   "outputs": [
    {
     "data": {
      "text/plain": [
       "['4%', '5%', '.%', '0%', '8%', '7%', '3%']"
      ]
     },
     "execution_count": 102,
     "metadata": {},
     "output_type": "execute_result"
    }
   ],
   "source": [
    "term2 = '[0-9.]%' # notice that . in the [] matches literal ., not full stop\n",
    "re.findall(term2, text) # getting better, still not right"
   ]
  },
  {
   "cell_type": "code",
   "execution_count": 108,
   "metadata": {},
   "outputs": [
    {
     "data": {
      "text/plain": [
       "['4%', '4.5%', '...%', '5.0%', '5.8%', '5.7%', '5.3%']"
      ]
     },
     "execution_count": 108,
     "metadata": {},
     "output_type": "execute_result"
    }
   ],
   "source": [
    "term3 = '[0-9.]+?%'# +? is lazy search, means it will stop at the first match, if just +, it will stop at the longest greedy match. \n",
    "re.findall(term3, text)"
   ]
  },
  {
   "cell_type": "code",
   "execution_count": 109,
   "metadata": {},
   "outputs": [
    {
     "data": {
      "text/plain": [
       "['4', '4.5', '5.0', '5.8', '5.7', '5.3']"
      ]
     },
     "execution_count": 109,
     "metadata": {},
     "output_type": "execute_result"
    }
   ],
   "source": [
    "# get rid of the % sign, and not match ...%\n",
    "term4 = r'([0-9][0-9.]*?)%'\n",
    "re.findall(term4, text)"
   ]
  },
  {
   "cell_type": "code",
   "execution_count": 177,
   "metadata": {},
   "outputs": [
    {
     "data": {
      "text/plain": [
       "['4', '4.5', '5.0', '5.8', '5.7', '5.3']"
      ]
     },
     "execution_count": 177,
     "metadata": {},
     "output_type": "execute_result"
    }
   ],
   "source": [
    "# or if you wish to use lookarounds, which matched a pattern that has to succeeded or preceded another given pattern (the send pattern is not captured).\n",
    "# here we want to use the positive lookahead , which asserts that the first part of the expression must be followed by the lookahead expression. \n",
    "term5 = r'[0-9][0-9.]*?(?=%)'\n",
    "re.findall(term5, text)\n"
   ]
  },
  {
   "cell_type": "code",
   "execution_count": 184,
   "metadata": {},
   "outputs": [
    {
     "data": {
      "text/plain": [
       "['19', '1', '2', '5.2']"
      ]
     },
     "execution_count": 184,
     "metadata": {},
     "output_type": "execute_result"
    }
   ],
   "source": [
    "# if you want to find numbers that are not followed by the dollar sign, use negative look ahead\n",
    "term6 = r'[0-9][0-9.]*(?!%|[0-9.])'\n",
    "re.findall(term6, text)"
   ]
  },
  {
   "cell_type": "code",
   "execution_count": 193,
   "metadata": {},
   "outputs": [
    {
     "data": {
      "text/plain": [
       "['3.4']"
      ]
     },
     "execution_count": 193,
     "metadata": {},
     "output_type": "execute_result"
    }
   ],
   "source": [
    "# you can also use positive/negative lookbehind to match a pattern that has to be preceded by another\n",
    "term7 = r'(?<=\\$)([0-9.]*)\\.'\n",
    "re.findall(term7, \"this watermelon is $3.4. 3 times cheaper than that one.\")"
   ]
  },
  {
   "cell_type": "code",
   "execution_count": null,
   "metadata": {},
   "outputs": [],
   "source": []
  }
 ],
 "metadata": {
  "interpreter": {
   "hash": "4aa270fab54f0f90f5403b19ad7d64ed4f07b8cca723e152711bda8b760f304b"
  },
  "kernelspec": {
   "display_name": "Python 3.8.16 ('HCI')",
   "language": "python",
   "name": "python3"
  },
  "language_info": {
   "codemirror_mode": {
    "name": "ipython",
    "version": 3
   },
   "file_extension": ".py",
   "mimetype": "text/x-python",
   "name": "python",
   "nbconvert_exporter": "python",
   "pygments_lexer": "ipython3",
   "version": "3.8.16"
  }
 },
 "nbformat": 4,
 "nbformat_minor": 4
}
